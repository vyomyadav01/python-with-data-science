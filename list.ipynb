{
 "cells": [
  {
   "cell_type": "code",
   "execution_count": 1,
   "metadata": {},
   "outputs": [
    {
     "name": "stdout",
     "output_type": "stream",
     "text": [
      "<class 'list'>\n"
     ]
    }
   ],
   "source": [
    "list1 = [\"vyom\",\"aman\",\"rahul\",\"devansh\",\"rishabh\"]\n",
    "print(type(list1))\n"
   ]
  },
  {
   "cell_type": "code",
   "execution_count": 2,
   "metadata": {},
   "outputs": [],
   "source": [
    "list3 = ['ravi',1,2,3,4]"
   ]
  },
  {
   "cell_type": "code",
   "execution_count": 3,
   "metadata": {},
   "outputs": [
    {
     "name": "stdout",
     "output_type": "stream",
     "text": [
      "<class 'list'>\n"
     ]
    }
   ],
   "source": [
    "list4 = [[1,2,3],[3,4,5],[\"vyom\",\"zaid sir\"]]\n",
    "print(type(list4))"
   ]
  },
  {
   "cell_type": "code",
   "execution_count": 4,
   "metadata": {},
   "outputs": [
    {
     "name": "stdout",
     "output_type": "stream",
     "text": [
      "1\n"
     ]
    }
   ],
   "source": [
    "print(list1.index(\"aman\"))"
   ]
  },
  {
   "cell_type": "code",
   "execution_count": 5,
   "metadata": {},
   "outputs": [
    {
     "name": "stdout",
     "output_type": "stream",
     "text": [
      "rishabh\n"
     ]
    }
   ],
   "source": [
    "print(list1.pop())"
   ]
  },
  {
   "cell_type": "code",
   "execution_count": 6,
   "metadata": {},
   "outputs": [
    {
     "name": "stdout",
     "output_type": "stream",
     "text": [
      "<class 'list'>\n"
     ]
    }
   ],
   "source": [
    "x = [] # empty list\n",
    "print(type(x))"
   ]
  },
  {
   "cell_type": "code",
   "execution_count": 7,
   "metadata": {},
   "outputs": [
    {
     "name": "stdout",
     "output_type": "stream",
     "text": [
      "[1, 1, 1, 1, 1, 1, 1, 1, 1, 1]\n"
     ]
    }
   ],
   "source": [
    "y = [1]*10 #duplicated\n",
    "print(y)"
   ]
  },
  {
   "cell_type": "code",
   "execution_count": 8,
   "metadata": {},
   "outputs": [
    {
     "name": "stdout",
     "output_type": "stream",
     "text": [
      "[1, 2, 3, 1, 2, 3, 1, 2, 3, 1, 2, 3, 1, 2, 3, 1, 2, 3, 1, 2, 3, 1, 2, 3, 1, 2, 3, 1, 2, 3]\n"
     ]
    }
   ],
   "source": [
    "z = [1,2,3] * 10\n",
    "print(z)"
   ]
  },
  {
   "cell_type": "code",
   "execution_count": 9,
   "metadata": {},
   "outputs": [
    {
     "name": "stdout",
     "output_type": "stream",
     "text": [
      "[1, 2, 2, 3, 4]\n"
     ]
    }
   ],
   "source": [
    "y = [1,2] + [2,3,4]\n",
    "print(y)\n"
   ]
  },
  {
   "cell_type": "code",
   "execution_count": 10,
   "metadata": {},
   "outputs": [
    {
     "name": "stdout",
     "output_type": "stream",
     "text": [
      "[1, 2, 3, 4, 5, 6, 7, 8, 9, 10]\n"
     ]
    }
   ],
   "source": [
    "a = [1,2,3,4,5,6,7,8,9,10]\n",
    "print(a)"
   ]
  },
  {
   "cell_type": "code",
   "execution_count": 11,
   "metadata": {},
   "outputs": [
    {
     "name": "stdout",
     "output_type": "stream",
     "text": [
      "[1, 2, 3, 4, 5, 6, 7, 8, 9, 10, 11, 12, 13, 14, 15, 16, 17, 18, 19, 20, 21, 22, 23, 24, 25, 26, 27, 28, 29, 30, 31, 32, 33, 34, 35, 36, 37, 38, 39, 40, 41, 42, 43, 44, 45, 46, 47, 48, 49, 50, 51, 52, 53, 54, 55, 56, 57, 58, 59, 60, 61, 62, 63, 64, 65, 66, 67, 68, 69, 70, 71, 72, 73, 74, 75, 76, 77, 78, 79, 80, 81, 82, 83, 84, 85, 86, 87, 88, 89, 90, 91, 92, 93, 94, 95, 96, 97, 98, 99, 100]\n"
     ]
    }
   ],
   "source": [
    "ab = list(range(1,101))\n",
    "print(ab)"
   ]
  },
  {
   "cell_type": "code",
   "execution_count": 12,
   "metadata": {},
   "outputs": [
    {
     "name": "stdout",
     "output_type": "stream",
     "text": [
      "[2, 4, 6, 8, 10, 12, 14, 16, 18, 20, 22, 24, 26, 28, 30, 32, 34, 36, 38, 40, 42, 44, 46, 48, 50, 52, 54, 56, 58, 60, 62, 64, 66, 68, 70, 72, 74, 76, 78, 80, 82, 84, 86, 88, 90, 92, 94, 96, 98, 100]\n"
     ]
    }
   ],
   "source": [
    "ab = list(range(2,101,2))\n",
    "print(ab)"
   ]
  },
  {
   "cell_type": "markdown",
   "metadata": {},
   "source": [
    "# string has 11 methods they are\n",
    "- append\n",
    "- deleting \n",
    "- insert\n",
    "* deletion\n",
    "- remove\n",
    "- pop\n",
    "- clear\n",
    "* utility\n",
    "- count\n",
    "- index\n",
    "- copy\n",
    "- sort\n",
    "- reverse"
   ]
  },
  {
   "cell_type": "code",
   "execution_count": 13,
   "metadata": {},
   "outputs": [],
   "source": [
    "movies = []\n",
    "movies.append(\"shawshank redemption\")"
   ]
  },
  {
   "cell_type": "code",
   "execution_count": 14,
   "metadata": {},
   "outputs": [
    {
     "name": "stdout",
     "output_type": "stream",
     "text": [
      "['shawshank redemption', \"vv'\", 'ds', 'sdf', 'ssd', 'sdf']\n"
     ]
    }
   ],
   "source": [
    "for i in range (5):\n",
    "    movies.append(input(\"Enter 5 movies\"))\n",
    "print(movies)"
   ]
  },
  {
   "cell_type": "code",
   "execution_count": 15,
   "metadata": {},
   "outputs": [
    {
     "ename": "AttributeError",
     "evalue": "'int' object has no attribute 'upper'",
     "output_type": "error",
     "traceback": [
      "\u001b[1;31m---------------------------------------------------------------------------\u001b[0m",
      "\u001b[1;31mAttributeError\u001b[0m                            Traceback (most recent call last)",
      "\u001b[1;32me:\\python with data science\\list.ipynb Cell 16\u001b[0m in \u001b[0;36m<cell line: 1>\u001b[1;34m()\u001b[0m\n\u001b[0;32m      <a href='vscode-notebook-cell:/e%3A/python%20with%20data%20science/list.ipynb#X21sZmlsZQ%3D%3D?line=0'>1</a>\u001b[0m \u001b[39mfor\u001b[39;00m movie \u001b[39min\u001b[39;00m movies:\n\u001b[1;32m----> <a href='vscode-notebook-cell:/e%3A/python%20with%20data%20science/list.ipynb#X21sZmlsZQ%3D%3D?line=1'>2</a>\u001b[0m     \u001b[39mprint\u001b[39m(\u001b[39mf\u001b[39m\u001b[39m\"\u001b[39m\u001b[39m-->\u001b[39m\u001b[39m{\u001b[39;00mi\u001b[39m.\u001b[39mupper()\u001b[39m}\u001b[39;00m\u001b[39m\"\u001b[39m)\n",
      "\u001b[1;31mAttributeError\u001b[0m: 'int' object has no attribute 'upper'"
     ]
    }
   ],
   "source": [
    "for movie in movies:\n",
    "    print(f\"-->{i.upper()}\")"
   ]
  },
  {
   "cell_type": "code",
   "execution_count": null,
   "metadata": {},
   "outputs": [
    {
     "data": {
      "text/plain": [
       "'r'"
      ]
     },
     "execution_count": 39,
     "metadata": {},
     "output_type": "execute_result"
    }
   ],
   "source": [
    "movies"
   ]
  },
  {
   "cell_type": "code",
   "execution_count": null,
   "metadata": {},
   "outputs": [
    {
     "data": {
      "text/plain": [
       "['shawshank redemption']"
      ]
     },
     "execution_count": 42,
     "metadata": {},
     "output_type": "execute_result"
    }
   ],
   "source": [
    "movies"
   ]
  },
  {
   "cell_type": "markdown",
   "metadata": {},
   "source": [
    "# insert function"
   ]
  },
  {
   "cell_type": "code",
   "execution_count": null,
   "metadata": {},
   "outputs": [
    {
     "name": "stdout",
     "output_type": "stream",
     "text": [
      "['apple', 'orange', 'banana', 'cherry']\n"
     ]
    }
   ],
   "source": [
    "fruits = ['apple','banana','cherry']\n",
    "fruits.insert(1,\"orange\")\n",
    "print(fruits)"
   ]
  },
  {
   "cell_type": "markdown",
   "metadata": {},
   "source": [
    "# replace functions"
   ]
  },
  {
   "cell_type": "code",
   "execution_count": null,
   "metadata": {},
   "outputs": [
    {
     "name": "stdout",
     "output_type": "stream",
     "text": [
      "['apple', 'orange', 'mango', 'cherry']\n"
     ]
    }
   ],
   "source": [
    "fruits[2] = \"mango\"# replace function\n",
    "print(fruits)"
   ]
  },
  {
   "cell_type": "markdown",
   "metadata": {},
   "source": [
    "# extend function"
   ]
  },
  {
   "cell_type": "code",
   "execution_count": null,
   "metadata": {},
   "outputs": [
    {
     "name": "stdout",
     "output_type": "stream",
     "text": [
      "['apple', 'orange', 'mango', 'cherry', 'potato', 'tomato', 'potato', 'tomato']\n"
     ]
    }
   ],
   "source": [
    "veg = [\"potato\",\"tomato\"] #extends function\n",
    "fruits.extend(veg)\n",
    "print(fruits)"
   ]
  },
  {
   "cell_type": "markdown",
   "metadata": {},
   "source": [
    "# sort function"
   ]
  },
  {
   "cell_type": "code",
   "execution_count": null,
   "metadata": {},
   "outputs": [
    {
     "name": "stdout",
     "output_type": "stream",
     "text": [
      "['apple', 'cherry', 'mango', 'orange', 'potato', 'potato', 'tomato', 'tomato']\n"
     ]
    }
   ],
   "source": [
    "fruits.sort()\n",
    "print(fruits)"
   ]
  },
  {
   "cell_type": "markdown",
   "metadata": {},
   "source": [
    "# reverse sort\n"
   ]
  },
  {
   "cell_type": "code",
   "execution_count": null,
   "metadata": {},
   "outputs": [
    {
     "name": "stdout",
     "output_type": "stream",
     "text": [
      "['tomato', 'tomato', 'potato', 'potato', 'orange', 'mango', 'cherry', 'apple']\n"
     ]
    }
   ],
   "source": [
    "fruits.sort(reverse=True)\n",
    "print(fruits)"
   ]
  },
  {
   "cell_type": "code",
   "execution_count": null,
   "metadata": {},
   "outputs": [
    {
     "name": "stdout",
     "output_type": "stream",
     "text": [
      "['tomato', 'tomato', 'orange', 'mango', 'cherry', 'apple']\n"
     ]
    }
   ],
   "source": [
    "fruits.remove(\"potato\")\n",
    "print(fruits)"
   ]
  },
  {
   "cell_type": "code",
   "execution_count": null,
   "metadata": {},
   "outputs": [],
   "source": [
    "if 'tomato' in fruits:\n",
    "    fruits.remove(\"tomato\")\n",
    "    print(fruits)"
   ]
  },
  {
   "cell_type": "code",
   "execution_count": null,
   "metadata": {},
   "outputs": [
    {
     "name": "stdout",
     "output_type": "stream",
     "text": [
      "[0, 9, 45, 23, 82, 7, 6, 5, 434, 34, 43, 34, 43, 34, 43, 43, 23, 1]\n"
     ]
    }
   ],
   "source": [
    "x = [1,23,43,43,34,43,34,43,34,434,5,6,7,82,23,45,9,0,]\n",
    "x.reverse()\n",
    "print(x)"
   ]
  },
  {
   "cell_type": "code",
   "execution_count": null,
   "metadata": {},
   "outputs": [
    {
     "data": {
      "text/plain": [
       "4"
      ]
     },
     "execution_count": 67,
     "metadata": {},
     "output_type": "execute_result"
    }
   ],
   "source": [
    "x.count(43)"
   ]
  },
  {
   "cell_type": "code",
   "execution_count": null,
   "metadata": {},
   "outputs": [
    {
     "data": {
      "text/plain": [
       "['o', 'l', 'l', 'e', 'h']"
      ]
     },
     "execution_count": 68,
     "metadata": {},
     "output_type": "execute_result"
    }
   ],
   "source": [
    "list(reversed('hello'))"
   ]
  },
  {
   "cell_type": "code",
   "execution_count": null,
   "metadata": {},
   "outputs": [
    {
     "name": "stdout",
     "output_type": "stream",
     "text": [
      "[1, 2, 3, 10, 20]\n",
      "[1, 2, 3, 10, 20]\n"
     ]
    }
   ],
   "source": [
    "x = [1,2,3]\n",
    "y = x # copy reference\n",
    "x.append(10)\n",
    "y.append(20)\n",
    "print(x)\n",
    "print(y)"
   ]
  },
  {
   "cell_type": "code",
   "execution_count": null,
   "metadata": {},
   "outputs": [
    {
     "name": "stdout",
     "output_type": "stream",
     "text": [
      "[1, 2, 3, 10, 20, 10]\n",
      "[1, 2, 3, 10, 20, 10]\n"
     ]
    }
   ],
   "source": [
    "z = x.copy()\n",
    "z.append(100)\n",
    "x.append(10)\n",
    "print(x)\n",
    "print(y)"
   ]
  },
  {
   "cell_type": "code",
   "execution_count": null,
   "metadata": {},
   "outputs": [
    {
     "data": {
      "text/plain": [
       "True"
      ]
     },
     "execution_count": 72,
     "metadata": {},
     "output_type": "execute_result"
    }
   ],
   "source": [
    "x is y"
   ]
  },
  {
   "cell_type": "code",
   "execution_count": null,
   "metadata": {},
   "outputs": [
    {
     "data": {
      "text/plain": [
       "False"
      ]
     },
     "execution_count": 73,
     "metadata": {},
     "output_type": "execute_result"
    }
   ],
   "source": [
    "z is y"
   ]
  },
  {
   "cell_type": "code",
   "execution_count": null,
   "metadata": {},
   "outputs": [
    {
     "data": {
      "text/plain": [
       "False"
      ]
     },
     "execution_count": 74,
     "metadata": {},
     "output_type": "execute_result"
    }
   ],
   "source": [
    "z is x"
   ]
  },
  {
   "cell_type": "code",
   "execution_count": null,
   "metadata": {},
   "outputs": [
    {
     "name": "stdout",
     "output_type": "stream",
     "text": [
      "noodles\n"
     ]
    }
   ],
   "source": [
    "d2 = { \"harry\":\"burger\",\"vagisha\":\"noodles\",\"shubhangi\":\"cake\",\"vaishali\":\"soup\",\"vatsal\":{\"shubham\":\"maggie\",}}\n",
    "print(d2[\"vagisha\"])"
   ]
  },
  {
   "cell_type": "code",
   "execution_count": null,
   "metadata": {},
   "outputs": [
    {
     "name": "stdout",
     "output_type": "stream",
     "text": [
      "cake\n"
     ]
    }
   ],
   "source": [
    "print(d2[\"shubhangi\"])"
   ]
  },
  {
   "cell_type": "code",
   "execution_count": null,
   "metadata": {},
   "outputs": [
    {
     "name": "stdout",
     "output_type": "stream",
     "text": [
      "maggie\n"
     ]
    }
   ],
   "source": [
    "print(d2[\"vatsal\"][\"shubham\"])"
   ]
  },
  {
   "cell_type": "code",
   "execution_count": null,
   "metadata": {},
   "outputs": [
    {
     "name": "stdout",
     "output_type": "stream",
     "text": [
      "harry\n",
      "larry\n",
      "caryy\n",
      "marrie\n"
     ]
    }
   ],
   "source": [
    "list1 = (\"harry\",\"larry\",\"caryy\",\"marrie\")\n",
    "for item in list1:\n",
    "    print(item)"
   ]
  },
  {
   "cell_type": "code",
   "execution_count": null,
   "metadata": {},
   "outputs": [
    {
     "name": "stdout",
     "output_type": "stream",
     "text": [
      "vyom 131\n",
      "yash mohan 132\n",
      "vagisha 122\n",
      "vatsal 126\n"
     ]
    }
   ],
   "source": [
    "list1 = [[\"vyom\",131],[\"yash mohan\",132],[\"vagisha\",122],[\"vatsal\",126]]\n",
    "dict1 = dict(list1)\n",
    "for item,roll in dict1.items(): #item function gets all the values in the dictionary\n",
    "    print(item,roll)"
   ]
  },
  {
   "cell_type": "code",
   "execution_count": null,
   "metadata": {},
   "outputs": [],
   "source": [
    "# ques make a list which ccan contain anything and if the value is number and num>6 then print that number"
   ]
  },
  {
   "cell_type": "code",
   "execution_count": null,
   "metadata": {},
   "outputs": [],
   "source": [
    "list1 = [\"vyom\",131,\"aditya\",4,\"sujal\",116,\"vatsal\",126]\n",
    "for item in list1:\n",
    "    if str(list1).isnumeric() and item >6:\n",
    "        print(item)\n",
    "    "
   ]
  },
  {
   "cell_type": "code",
   "execution_count": null,
   "metadata": {},
   "outputs": [
    {
     "name": "stdout",
     "output_type": "stream",
     "text": [
      "<class 'set'>\n"
     ]
    }
   ],
   "source": [
    "a = {1,2,4,5}\n",
    "b = {4,5,6}\n",
    "#a.union(b)\n",
    "print(type(a))"
   ]
  },
  {
   "cell_type": "code",
   "execution_count": null,
   "metadata": {},
   "outputs": [
    {
     "name": "stdout",
     "output_type": "stream",
     "text": [
      "Youre close enter number\n"
     ]
    }
   ],
   "source": [
    "a = int(input(\"Enter the number\"))\n",
    "if a>30:\n",
    "    print(\"Enter less number\")\n",
    "    if a<20:\n",
    "        print(\"Enter a bit less number\")\n",
    "elif a<7:\n",
    "    print(\"Enter number greater than 10\")\n",
    "elif a>=15:\n",
    "        print(\"Youre close enter number\")\n",
    "elif a>17:\n",
    "            print(\"you are very close\")\n",
    "elif a == 18:\n",
    "                print(\"you got the number right\")\n",
    "    "
   ]
  },
  {
   "cell_type": "code",
   "execution_count": 16,
   "metadata": {},
   "outputs": [
    {
     "name": "stdout",
     "output_type": "stream",
     "text": [
      "['vyom', 'aman', 'rahul', 'devansh']\n"
     ]
    }
   ],
   "source": [
    "print(list1)"
   ]
  },
  {
   "cell_type": "code",
   "execution_count": 34,
   "metadata": {},
   "outputs": [
    {
     "name": "stdout",
     "output_type": "stream",
     "text": [
      "roll no. 001\n"
     ]
    },
    {
     "ename": "AttributeError",
     "evalue": "'str' object has no attribute 'items'",
     "output_type": "error",
     "traceback": [
      "\u001b[1;31m---------------------------------------------------------------------------\u001b[0m",
      "\u001b[1;31mAttributeError\u001b[0m                            Traceback (most recent call last)",
      "\u001b[1;32me:\\python with data science\\list.ipynb Cell 49\u001b[0m in \u001b[0;36m<cell line: 1>\u001b[1;34m()\u001b[0m\n\u001b[0;32m      <a href='vscode-notebook-cell:/e%3A/python%20with%20data%20science/list.ipynb#Y104sZmlsZQ%3D%3D?line=0'>1</a>\u001b[0m \u001b[39mfor\u001b[39;00m roll, data \u001b[39min\u001b[39;00m reports\u001b[39m.\u001b[39mitems():\n\u001b[0;32m      <a href='vscode-notebook-cell:/e%3A/python%20with%20data%20science/list.ipynb#Y104sZmlsZQ%3D%3D?line=1'>2</a>\u001b[0m     \u001b[39mprint\u001b[39m(\u001b[39m\"\u001b[39m\u001b[39mroll no.\u001b[39m\u001b[39m\"\u001b[39m,roll)\n\u001b[1;32m----> <a href='vscode-notebook-cell:/e%3A/python%20with%20data%20science/list.ipynb#Y104sZmlsZQ%3D%3D?line=2'>3</a>\u001b[0m     \u001b[39mfor\u001b[39;00m key, val \u001b[39min\u001b[39;00m data\u001b[39m.\u001b[39;49mitems():\n\u001b[0;32m      <a href='vscode-notebook-cell:/e%3A/python%20with%20data%20science/list.ipynb#Y104sZmlsZQ%3D%3D?line=3'>4</a>\u001b[0m         \u001b[39mprint\u001b[39m(key)\n\u001b[0;32m      <a href='vscode-notebook-cell:/e%3A/python%20with%20data%20science/list.ipynb#Y104sZmlsZQ%3D%3D?line=4'>5</a>\u001b[0m         \u001b[39mif\u001b[39;00m \u001b[39misinstance\u001b[39m(val,\u001b[39mdict\u001b[39m):\n",
      "\u001b[1;31mAttributeError\u001b[0m: 'str' object has no attribute 'items'"
     ]
    }
   ],
   "source": [
    "for roll, data in reports.items():\n",
    "    print(\"roll no.\",roll)\n",
    "    for key, val in data.items():\n",
    "        print(key)\n",
    "        if isinstance(val,dict):\n",
    "            for sub,marks in val.items():\n",
    "                print(sub,marks)\n",
    "            else:\n",
    "                print(key,val)\n",
    "            print('--'*10)"
   ]
  },
  {
   "cell_type": "code",
   "execution_count": 35,
   "metadata": {},
   "outputs": [],
   "source": [
    "reports = {\n",
    "    '001': {\n",
    "        'name':'Amar',\n",
    "        'subjects': {'english':80,'maths':90,'science':80} \n",
    "    },\n",
    "    '002':{\n",
    "        'name':'Vijay',\n",
    "        'subjects':{'english':70,'maths':80,'science':79}\n",
    "    },\n",
    "    '003':{\n",
    "        'name':'Raj',\n",
    "        'subjects':{'english':60,'maths':89,'science':89}\n",
    "    },\n",
    "}"
   ]
  },
  {
   "cell_type": "code",
   "execution_count": 36,
   "metadata": {},
   "outputs": [
    {
     "name": "stdout",
     "output_type": "stream",
     "text": [
      "roll no. 001\n",
      "name\n",
      "subjects\n",
      "subjects\n",
      "english 80\n",
      "Total:80/300\n",
      "Prct:26.67%\n",
      "maths 90\n",
      "Total:170/300\n",
      "Prct:56.67%\n",
      "science 80\n",
      "Total:250/300\n",
      "Prct:83.33%\n",
      "subjects {'english': 80, 'maths': 90, 'science': 80}\n",
      "--------------------\n",
      "roll no. 002\n",
      "name\n",
      "subjects\n",
      "subjects\n",
      "english 70\n",
      "Total:70/300\n",
      "Prct:23.33%\n",
      "maths 80\n",
      "Total:150/300\n",
      "Prct:50.00%\n",
      "science 79\n",
      "Total:229/300\n",
      "Prct:76.33%\n",
      "subjects {'english': 70, 'maths': 80, 'science': 79}\n",
      "--------------------\n",
      "roll no. 003\n",
      "name\n",
      "subjects\n",
      "subjects\n",
      "english 60\n",
      "Total:60/300\n",
      "Prct:20.00%\n",
      "maths 89\n",
      "Total:149/300\n",
      "Prct:49.67%\n",
      "science 89\n",
      "Total:238/300\n",
      "Prct:79.33%\n",
      "subjects {'english': 60, 'maths': 89, 'science': 89}\n",
      "--------------------\n"
     ]
    }
   ],
   "source": [
    "for roll, data in reports.items():\n",
    "    print(\"roll no.\",roll)\n",
    "    for key, val in data.items():\n",
    "        print(key)\n",
    "        if isinstance(val,dict):\n",
    "            print(key)\n",
    "            total = 0\n",
    "            for sub,marks in val.items():\n",
    "                print(sub,marks)\n",
    "                total += marks\n",
    "                print(f'Total:{total}/300')\n",
    "                print(f'Prct:{total/300*100:.2f}%')\n",
    "            else:\n",
    "                print(key,val)\n",
    "            print('--'*10)"
   ]
  },
  {
   "cell_type": "code",
   "execution_count": 38,
   "metadata": {},
   "outputs": [
    {
     "name": "stdout",
     "output_type": "stream",
     "text": [
      "name = input(\"Enter your name:\")\n",
      "print('welcome',name)\n",
      "amount = input(\"how much tea will you take\\n\")\n",
      "print(\"why would you want\",amount,'tea?\\n')\n",
      "print(\"ok!sir i'll get back to you\")\n"
     ]
    }
   ],
   "source": [
    "# file handling\n",
    "f = open('example.py')\n",
    "print(f.read())"
   ]
  },
  {
   "cell_type": "code",
   "execution_count": 41,
   "metadata": {},
   "outputs": [
    {
     "name": "stdout",
     "output_type": "stream",
     "text": [
      "233 characters\n"
     ]
    }
   ],
   "source": [
    "f = open(r'C:\\Users\\vyomy\\OneDrive\\Desktop\\new 1.txt')\n",
    "content = f.read()\n",
    "print(f'{len(content)} characters')"
   ]
  },
  {
   "cell_type": "code",
   "execution_count": 42,
   "metadata": {},
   "outputs": [],
   "source": [
    "data = 'hi everyone,this is sample file'\n",
    "with open('mydata.txt','w') as file:\n",
    "    file.write(data)"
   ]
  },
  {
   "cell_type": "code",
   "execution_count": 43,
   "metadata": {},
   "outputs": [],
   "source": [
    "data = '\\nthis is the new data that is going to be written'\"DA and HRA.py\"\n",
    "with open('mydata.txt','a') as file:\n",
    "    file.write(data)"
   ]
  },
  {
   "cell_type": "code",
   "execution_count": 44,
   "metadata": {},
   "outputs": [
    {
     "name": "stdout",
     "output_type": "stream",
     "text": [
      "File bio.txt saved\n"
     ]
    }
   ],
   "source": [
    "file = 'bio.txt'\n",
    "content = ''\n",
    "while True:\n",
    "    line = input('Enter a line (or q to quit):')\n",
    "    if line == 'q':\n",
    "        break\n",
    "    content += line + '\\n'\n",
    "with open(file,'w') as f:\n",
    "    f.write(content)\n",
    "    print(f'File {file} saved')\n",
    "    "
   ]
  },
  {
   "cell_type": "code",
   "execution_count": null,
   "metadata": {},
   "outputs": [],
   "source": []
  }
 ],
 "metadata": {
  "kernelspec": {
   "display_name": "Python 3.9.13 ('base')",
   "language": "python",
   "name": "python3"
  },
  "language_info": {
   "codemirror_mode": {
    "name": "ipython",
    "version": 3
   },
   "file_extension": ".py",
   "mimetype": "text/x-python",
   "name": "python",
   "nbconvert_exporter": "python",
   "pygments_lexer": "ipython3",
   "version": "3.9.13"
  },
  "orig_nbformat": 4,
  "vscode": {
   "interpreter": {
    "hash": "9f90e95fe3af5b642f8d99bde2ed8bc2a8967bed7c5f5bb4358bd31873c3dbfa"
   }
  }
 },
 "nbformat": 4,
 "nbformat_minor": 2
}
