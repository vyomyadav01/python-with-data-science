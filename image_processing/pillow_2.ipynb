{
 "cells": [
  {
   "cell_type": "code",
   "execution_count": 1,
   "metadata": {},
   "outputs": [],
   "source": [
    "from PIL import Image, ImageDraw, ImageFont, ImageFilter, ImageEnhance"
   ]
  },
  {
   "cell_type": "code",
   "execution_count": 2,
   "metadata": {},
   "outputs": [],
   "source": [
    "im1 = Image.open('img1.jpg')\n",
    "im2 = Image.open('img2.jpg')\n",
    "im3 = Image.open('img3.jpg')\n",
    "im4 = Image.open('img4.jpg')\n"
   ]
  },
  {
   "cell_type": "code",
   "execution_count": 3,
   "metadata": {},
   "outputs": [
    {
     "data": {
      "image/png": "[encoded data removed]",
      "text/plain": [
       "<PIL.Image.Image image mode=RGB size=800x300>"
      ]
     },
     "execution_count": 3,
     "metadata": {},
     "output_type": "execute_result"
    }
   ],
   "source": [
    "im5 = Image.new('RGB', (800, 300), (0, 255, 255))\n",
    "im5"
   ]
  },
  {
   "cell_type": "code",
   "execution_count": 4,
   "metadata": {},
   "outputs": [],
   "source": [
    "im55 = im5.copy()\n",
    "fnt  = ImageFont.truetype('font.TTF',40)\n",
    "d = ImageDraw.Draw(im55)\n",
    "# draw hello at 10,10 with red color\n",
    "grey = (100,100,100)\n",
    "d.text((10, 10), \"Hello\", font=fnt,fill=grey)\n",
    "d.text((10,60), \"how\",font=fnt,fill=grey)\n",
    "d.text((10,80), \"old\",font=fnt,fill=grey)\n",
    "d.text((10,100), \"are\",font=fnt,fill=grey)\n",
    "d.text((10,120), \"you\",font=fnt,fill=grey)\n",
    "\n"
   ]
  },
  {
   "cell_type": "code",
   "execution_count": 5,
   "metadata": {},
   "outputs": [
    {
     "data": {
      "text/plain": [
       "<PIL.ImageFont.FreeTypeFont at 0x1cf9ad2b1c0>"
      ]
     },
     "execution_count": 5,
     "metadata": {},
     "output_type": "execute_result"
    }
   ],
   "source": [
    "fnt"
   ]
  },
  {
   "cell_type": "code",
   "execution_count": 6,
   "metadata": {},
   "outputs": [
    {
     "data": {
      "image/png": "[encoded data removed]",
      "text/plain": [
       "<PIL.Image.Image image mode=RGB size=800x300>"
      ]
     },
     "execution_count": 6,
     "metadata": {},
     "output_type": "execute_result"
    }
   ],
   "source": [
    "im55"
   ]
  },
  {
   "cell_type": "code",
   "execution_count": 10,
   "metadata": {},
   "outputs": [],
   "source": [
    "im11 = im1.copy()\n",
    "d = ImageDraw.Draw(im11)\n",
    "d.ellipse((100,100,200,200), fill=(255, 0 , 0))\n",
    "d.ellipse((120,120,180,180),fill=(0, 255,0))\n",
    "im11.show()"
   ]
  },
  {
   "cell_type": "code",
   "execution_count": 11,
   "metadata": {},
   "outputs": [],
   "source": [
    "im33 = im3.copy()\n",
    "d = ImageDraw.Draw(im33)\n",
    "d.rectangle((0, 0, 300, 100), fill=(0,0,0))\n",
    "d.rectangle((0,im33.height - 100, im33.width, im33.height),fill=(0,0,0))\n",
    "#add text at top centre in rectangle\n",
    "fnt = ImageFont.truetype('font.TTF',40)\n",
    "d.text((im33.width / 2-100,30),\"Hello\", font=fnt,fill=(255,255,255),align='center')\n",
    "d.text((im33.width / 2 -100, im33.height-70),\"Year 2023\",font=fnt,fill=(255,255,255),align='center')\n",
    "im33.show()"
   ]
  },
  {
   "cell_type": "code",
   "execution_count": null,
   "metadata": {},
   "outputs": [],
   "source": []
  }
 ],
 "metadata": {
  "kernelspec": {
   "display_name": "base",
   "language": "python",
   "name": "python3"
  },
  "language_info": {
   "codemirror_mode": {
    "name": "ipython",
    "version": 3
   },
   "file_extension": ".py",
   "mimetype": "text/x-python",
   "name": "python",
   "nbconvert_exporter": "python",
   "pygments_lexer": "ipython3",
   "version": "3.9.13"
  },
  "orig_nbformat": 4,
  "vscode": {
   "interpreter": {
    "hash": "9f90e95fe3af5b642f8d99bde2ed8bc2a8967bed7c5f5bb4358bd31873c3dbfa"
   }
  }
 },
 "nbformat": 4,
 "nbformat_minor": 2
}
