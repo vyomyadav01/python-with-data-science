{
 "cells": [
  {
   "cell_type": "code",
   "execution_count": 5,
   "metadata": {},
   "outputs": [
    {
     "name": "stdout",
     "output_type": "stream",
     "text": [
      "1\n",
      "2\n",
      "3\n",
      "4\n",
      "5\n",
      "6\n",
      "7\n",
      "8\n",
      "9\n",
      "10\n",
      "11\n",
      "12\n",
      "13\n",
      "14\n",
      "15\n",
      "16\n",
      "17\n",
      "18\n",
      "19\n",
      "20\n",
      "21\n",
      "22\n",
      "23\n",
      "24\n",
      "25\n",
      "26\n",
      "27\n",
      "28\n",
      "29\n",
      "30\n",
      "31\n",
      "32\n",
      "33\n",
      "34\n",
      "35\n",
      "36\n",
      "37\n",
      "38\n",
      "39\n",
      "40\n",
      "41\n",
      "42\n",
      "43\n",
      "44\n",
      "45\n"
     ]
    },
    {
     "ename": "KeyboardInterrupt",
     "evalue": "",
     "output_type": "error",
     "traceback": [
      "\u001b[1;31m---------------------------------------------------------------------------\u001b[0m",
      "\u001b[1;31mKeyboardInterrupt\u001b[0m                         Traceback (most recent call last)",
      "File \u001b[1;32mc:\\Users\\vyomy\\miniconda3\\lib\\site-packages\\IPython\\core\\interactiveshell.py:3338\u001b[0m, in \u001b[0;36mInteractiveShell.run_ast_nodes\u001b[1;34m(self, nodelist, cell_name, interactivity, compiler, result)\u001b[0m\n\u001b[0;32m   3336\u001b[0m         code \u001b[39m=\u001b[39m \u001b[39mself\u001b[39m\u001b[39m.\u001b[39m_update_code_co_name(code)\n\u001b[0;32m   3337\u001b[0m         asy \u001b[39m=\u001b[39m compare(code)\n\u001b[1;32m-> 3338\u001b[0m     \u001b[39mif\u001b[39;00m \u001b[39mawait\u001b[39;00m \u001b[39mself\u001b[39m\u001b[39m.\u001b[39mrun_code(code, result, async_\u001b[39m=\u001b[39masy):\n\u001b[0;32m   3339\u001b[0m         \u001b[39mreturn\u001b[39;00m \u001b[39mTrue\u001b[39;00m\n\u001b[0;32m   3341\u001b[0m \u001b[39m# Flush softspace\u001b[39;00m\n",
      "File \u001b[1;32m_pydevd_bundle/pydevd_cython.pyx:1505\u001b[0m, in \u001b[0;36m_pydevd_bundle.pydevd_cython.trace_dispatch\u001b[1;34m()\u001b[0m\n",
      "File \u001b[1;32mc:\\Users\\vyomy\\miniconda3\\lib\\site-packages\\debugpy\\_vendored\\pydevd\\pydevd.py:1066\u001b[0m, in \u001b[0;36mPyDB.enable_tracing\u001b[1;34m(self, thread_trace_func, apply_to_all_threads)\u001b[0m\n\u001b[0;32m   1063\u001b[0m     \u001b[39melse\u001b[39;00m:\n\u001b[0;32m   1064\u001b[0m         \u001b[39mself\u001b[39m\u001b[39m.\u001b[39m_local_thread_trace_func\u001b[39m.\u001b[39mthread_trace_func \u001b[39m=\u001b[39m thread_trace_func\n\u001b[1;32m-> 1066\u001b[0m pydevd_tracing\u001b[39m.\u001b[39;49mSetTrace(thread_trace_func)\n\u001b[0;32m   1067\u001b[0m \u001b[39mif\u001b[39;00m IS_CPYTHON \u001b[39mand\u001b[39;00m apply_to_all_threads:\n\u001b[0;32m   1068\u001b[0m     pydevd_tracing\u001b[39m.\u001b[39mset_trace_to_threads(thread_trace_func)\n",
      "File \u001b[1;32mc:\\Users\\vyomy\\miniconda3\\lib\\site-packages\\debugpy\\_vendored\\pydevd\\pydevd_tracing.py:83\u001b[0m, in \u001b[0;36mSetTrace\u001b[1;34m(tracing_func)\u001b[0m\n\u001b[0;32m     81\u001b[0m \u001b[39mdef\u001b[39;00m \u001b[39mSetTrace\u001b[39m(tracing_func):\n\u001b[0;32m     82\u001b[0m     \u001b[39mif\u001b[39;00m tracing_func \u001b[39mis\u001b[39;00m \u001b[39mnot\u001b[39;00m \u001b[39mNone\u001b[39;00m:\n\u001b[1;32m---> 83\u001b[0m         \u001b[39mif\u001b[39;00m set_trace_to_threads(tracing_func, thread_idents\u001b[39m=\u001b[39;49m[thread\u001b[39m.\u001b[39;49mget_ident()], create_dummy_thread\u001b[39m=\u001b[39;49m\u001b[39mFalse\u001b[39;49;00m) \u001b[39m==\u001b[39m \u001b[39m0\u001b[39m:\n\u001b[0;32m     84\u001b[0m             \u001b[39m# If we can use our own tracer instead of the one from sys.settrace, do it (the reason\u001b[39;00m\n\u001b[0;32m     85\u001b[0m             \u001b[39m# is that this is faster than the Python version because we don't call\u001b[39;00m\n\u001b[0;32m     86\u001b[0m             \u001b[39m# PyFrame_FastToLocalsWithError and PyFrame_LocalsToFast at each event!\u001b[39;00m\n\u001b[0;32m     87\u001b[0m             \u001b[39m# (the difference can be huge when checking line events on frames as the\u001b[39;00m\n\u001b[0;32m     88\u001b[0m             \u001b[39m# time increases based on the number of local variables in the scope)\u001b[39;00m\n\u001b[0;32m     89\u001b[0m             \u001b[39m# See: InternalCallTrampoline (on the C side) for details.\u001b[39;00m\n\u001b[0;32m     90\u001b[0m             \u001b[39mreturn\u001b[39;00m\n\u001b[0;32m     92\u001b[0m     \u001b[39m# If it didn't work (or if it was None), use the Python version.\u001b[39;00m\n",
      "File \u001b[1;32mc:\\Users\\vyomy\\miniconda3\\lib\\site-packages\\debugpy\\_vendored\\pydevd\\pydevd_tracing.py:345\u001b[0m, in \u001b[0;36mset_trace_to_threads\u001b[1;34m(tracing_func, thread_idents, create_dummy_thread)\u001b[0m\n\u001b[0;32m    343\u001b[0m start_new_thread \u001b[39m=\u001b[39m pydev_monkey\u001b[39m.\u001b[39mget_original_start_new_thread(thread)\n\u001b[0;32m    344\u001b[0m start_new_thread(increase_tracing_count, ())\n\u001b[1;32m--> 345\u001b[0m proceed\u001b[39m.\u001b[39;49macquire()  \u001b[39m# Only proceed after the release() is done.\u001b[39;00m\n\u001b[0;32m    346\u001b[0m proceed \u001b[39m=\u001b[39m \u001b[39mNone\u001b[39;00m\n\u001b[0;32m    348\u001b[0m \u001b[39m# Note: The set_trace_func is not really used anymore in the C side.\u001b[39;00m\n",
      "\u001b[1;31mKeyboardInterrupt\u001b[0m: "
     ]
    }
   ],
   "source": [
    "i = 0\n",
    "for i in range (45):\n",
    "    print(i+1)\n",
    "    i = i+1\n",
    "    "
   ]
  },
  {
   "cell_type": "code",
   "execution_count": 3,
   "metadata": {},
   "outputs": [
    {
     "name": "stdout",
     "output_type": "stream",
     "text": [
      "0 1 2 3 4 5 6 7 "
     ]
    }
   ],
   "source": [
    "for i in range (0,10):\n",
    "    print(+i,end=' ')\n",
    "    "
   ]
  },
  {
   "cell_type": "code",
   "execution_count": 10,
   "metadata": {},
   "outputs": [
    {
     "name": "stdout",
     "output_type": "stream",
     "text": [
      "Names-->t\n",
      "{'yash': 'maggie', 'krish': 57, 'vansh': 'chicken lolipop'}\n",
      "Names-->i\n",
      "{'yash': 'maggie', 'krish': 57, 'vansh': 'chicken lolipop'}\n",
      "Names-->k\n",
      "{'yash': 'maggie', 'krish': 57, 'vansh': 'chicken lolipop'}\n",
      "Names-->k\n",
      "{'yash': 'maggie', 'krish': 57, 'vansh': 'chicken lolipop'}\n",
      "Names-->i\n",
      "{'yash': 'maggie', 'krish': 57, 'vansh': 'chicken lolipop'}\n"
     ]
    }
   ],
   "source": [
    "dict1 = {\"vyom\":\"tikki\",\"yash\":\"maggie\",\"krish\":57,\"vansh\":\"chicken lolipop\"}\n",
    "for key in dict1.pop(\"vyom\"):\n",
    "    print(f'Names-->{key}')\n",
    "    print(dict1)\n"
   ]
  },
  {
   "cell_type": "code",
   "execution_count": 2,
   "metadata": {},
   "outputs": [
    {
     "name": "stdout",
     "output_type": "stream",
     "text": [
      "['haryy', 'caryy', 'marrie', 'laryy'] ['haryy', 'caryy', 'marrie', 'laryy'] ['haryy', 'caryy', 'marrie', 'laryy'] ['haryy', 'caryy', 'marrie', 'laryy'] "
     ]
    }
   ],
   "source": [
    "list1 = [\"haryy\",\"caryy\",\"marrie\",\"laryy\"]\n",
    "for names in list1:\n",
    "    print(list1,end=\" \")"
   ]
  },
  {
   "cell_type": "code",
   "execution_count": 4,
   "metadata": {},
   "outputs": [
    {
     "name": "stdout",
     "output_type": "stream",
     "text": [
      "harry\n",
      "<class 'tuple'>\n",
      "carry\n",
      "<class 'tuple'>\n",
      "laryy\n",
      "<class 'tuple'>\n",
      "darry\n",
      "<class 'tuple'>\n"
     ]
    }
   ],
   "source": [
    "tup1 = (\"harry\",\"carry\",\"laryy\",\"darry\")\n",
    "for tup in tup1:\n",
    "    print(tup)\n",
    "    print(type(tup1))"
   ]
  },
  {
   "cell_type": "code",
   "execution_count": 18,
   "metadata": {},
   "outputs": [
    {
     "name": "stdout",
     "output_type": "stream",
     "text": [
      "vyom "
     ]
    }
   ],
   "source": [
    "list2 = [\"vyom\",\"good will\",67,5,3,6,23,543,\"sam\"]\n",
    "for item in list2:\n",
    "    if str(item).isnumeric() and item >6:\n",
    "        print(item,end=\" \")\n",
    "        break\n",
    "    else:\n",
    "        print(item,end=\" \")\n",
    "        break"
   ]
  },
  {
   "cell_type": "code",
   "execution_count": 6,
   "metadata": {},
   "outputs": [
    {
     "name": "stdout",
     "output_type": "stream",
     "text": [
      "hello world 12\n"
     ]
    }
   ],
   "source": [
    "def function1(a,b):\n",
    "\n",
    "    print(\"hello world\",a+b)\n",
    "\n",
    "    \n",
    "function1(5,7)\n",
    "    "
   ]
  },
  {
   "cell_type": "code",
   "execution_count": 17,
   "metadata": {},
   "outputs": [
    {
     "name": "stdout",
     "output_type": "stream",
     "text": [
      "5.0\n",
      "None\n"
     ]
    }
   ],
   "source": [
    "def function1(a,b): \n",
    "    average = (a+b) / 2\n",
    "    print(average)\n",
    "v = function1(5,5)\n",
    "print(v)"
   ]
  },
  {
   "cell_type": "code",
   "execution_count": 19,
   "metadata": {},
   "outputs": [
    {
     "name": "stdout",
     "output_type": "stream",
     "text": [
      "the even number is 2\n",
      "the even number is 4\n",
      "the even number is 6\n",
      "the even number is 8\n",
      "the even number is 10\n"
     ]
    }
   ],
   "source": [
    "for i in range (1,11):\n",
    "    if i % 2 == 0:\n",
    "        print(f'the even number is {i}')"
   ]
  },
  {
   "cell_type": "code",
   "execution_count": 24,
   "metadata": {},
   "outputs": [
    {
     "name": "stdout",
     "output_type": "stream",
     "text": [
      " the square of numbers are--> 1\n",
      " the square of numbers are--> 4\n",
      " the square of numbers are--> 9\n",
      " the square of numbers are--> 16\n",
      " the square of numbers are--> 25\n",
      " the square of numbers are--> 36\n",
      " the square of numbers are--> 49\n",
      " the square of numbers are--> 64\n",
      " the square of numbers are--> 81\n",
      " the square of numbers are--> 100\n"
     ]
    }
   ],
   "source": [
    "for i in range (1,11):\n",
    "    square = i*i\n",
    "    print(f' the square of number is--> {square}' )"
   ]
  },
  {
   "cell_type": "code",
   "execution_count": 25,
   "metadata": {},
   "outputs": [
    {
     "name": "stdout",
     "output_type": "stream",
     "text": [
      "the series is-->10\n",
      "the series is-->20\n",
      "the series is-->30\n",
      "the series is-->40\n",
      "the series is-->50\n",
      "the series is-->60\n",
      "the series is-->70\n",
      "the series is-->80\n",
      "the series is-->90\n",
      "the series is-->100\n"
     ]
    }
   ],
   "source": [
    "for i in range(1,11):\n",
    "    table = 10 * i\n",
    "    print(f'the series is-->{table}')"
   ]
  },
  {
   "cell_type": "code",
   "execution_count": 27,
   "metadata": {},
   "outputs": [],
   "source": [
    "num = 105\n",
    "while(num<=7):\n",
    "    print(num)\n",
    "num = num-7"
   ]
  },
  {
   "cell_type": "code",
   "execution_count": null,
   "metadata": {},
   "outputs": [],
   "source": []
  }
 ],
 "metadata": {
  "kernelspec": {
   "display_name": "Python 3.9.13 ('base')",
   "language": "python",
   "name": "python3"
  },
  "language_info": {
   "codemirror_mode": {
    "name": "ipython",
    "version": 3
   },
   "file_extension": ".py",
   "mimetype": "text/x-python",
   "name": "python",
   "nbconvert_exporter": "python",
   "pygments_lexer": "ipython3",
   "version": "3.9.13"
  },
  "orig_nbformat": 4,
  "vscode": {
   "interpreter": {
    "hash": "9f90e95fe3af5b642f8d99bde2ed8bc2a8967bed7c5f5bb4358bd31873c3dbfa"
   }
  }
 },
 "nbformat": 4,
 "nbformat_minor": 2
}
